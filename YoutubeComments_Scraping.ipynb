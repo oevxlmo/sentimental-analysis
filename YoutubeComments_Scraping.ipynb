{
  "nbformat": 4,
  "nbformat_minor": 0,
  "metadata": {
    "colab": {
      "provenance": [],
      "include_colab_link": true
    },
    "kernelspec": {
      "name": "python3",
      "display_name": "Python 3"
    },
    "language_info": {
      "name": "python"
    }
  },
  "cells": [
    {
      "cell_type": "markdown",
      "metadata": {
        "id": "view-in-github",
        "colab_type": "text"
      },
      "source": [
        "<a href=\"https://colab.research.google.com/github/oevxlmo/sentimental-analysis/blob/main/YoutubeComments_Scraping.ipynb\" target=\"_parent\"><img src=\"https://colab.research.google.com/assets/colab-badge.svg\" alt=\"Open In Colab\"/></a>"
      ]
    },
    {
      "cell_type": "markdown",
      "source": [
        "## Pull Comments"
      ],
      "metadata": {
        "id": "ExqBG7nOSzQZ"
      }
    },
    {
      "cell_type": "code",
      "execution_count": null,
      "metadata": {
        "colab": {
          "base_uri": "https://localhost:8080/",
          "height": 53
        },
        "id": "LtsUFbQJOv-5",
        "outputId": "e65c77c9-adc5-4fd8-b7ff-040591f9d7ce"
      },
      "outputs": [
        {
          "output_type": "stream",
          "name": "stdout",
          "text": [
            "CSV file created: /content/youtube_comments_with_replies.csv\n",
            "File exists at: /content/youtube_comments_with_replies.csv\n"
          ]
        },
        {
          "output_type": "display_data",
          "data": {
            "text/plain": [
              "<IPython.core.display.Javascript object>"
            ],
            "application/javascript": [
              "\n",
              "    async function download(id, filename, size) {\n",
              "      if (!google.colab.kernel.accessAllowed) {\n",
              "        return;\n",
              "      }\n",
              "      const div = document.createElement('div');\n",
              "      const label = document.createElement('label');\n",
              "      label.textContent = `Downloading \"${filename}\": `;\n",
              "      div.appendChild(label);\n",
              "      const progress = document.createElement('progress');\n",
              "      progress.max = size;\n",
              "      div.appendChild(progress);\n",
              "      document.body.appendChild(div);\n",
              "\n",
              "      const buffers = [];\n",
              "      let downloaded = 0;\n",
              "\n",
              "      const channel = await google.colab.kernel.comms.open(id);\n",
              "      // Send a message to notify the kernel that we're ready.\n",
              "      channel.send({})\n",
              "\n",
              "      for await (const message of channel.messages) {\n",
              "        // Send a message to notify the kernel that we're ready.\n",
              "        channel.send({})\n",
              "        if (message.buffers) {\n",
              "          for (const buffer of message.buffers) {\n",
              "            buffers.push(buffer);\n",
              "            downloaded += buffer.byteLength;\n",
              "            progress.value = downloaded;\n",
              "          }\n",
              "        }\n",
              "      }\n",
              "      const blob = new Blob(buffers, {type: 'application/binary'});\n",
              "      const a = document.createElement('a');\n",
              "      a.href = window.URL.createObjectURL(blob);\n",
              "      a.download = filename;\n",
              "      div.appendChild(a);\n",
              "      a.click();\n",
              "      div.remove();\n",
              "    }\n",
              "  "
            ]
          },
          "metadata": {}
        },
        {
          "output_type": "display_data",
          "data": {
            "text/plain": [
              "<IPython.core.display.Javascript object>"
            ],
            "application/javascript": [
              "download(\"download_99fa057f-39e1-4b61-b7f9-df6898cff965\", \"youtube_comments_with_replies.csv\", 252192)"
            ]
          },
          "metadata": {}
        }
      ],
      "source": [
        "import googleapiclient.discovery\n",
        "import csv\n",
        "import os\n",
        "\n",
        "# Set up the API\n",
        "api_service_name = \"youtube\"\n",
        "api_version = \"v3\"\n",
        "DEVELOPER_KEY = \"YOUR_API_KEY\"  # Replace with your API key\n",
        "\n",
        "youtube = googleapiclient.discovery.build(\n",
        "    api_service_name, api_version, developerKey=DEVELOPER_KEY)\n",
        "\n",
        "# Function to fetch all comments and replies for a given video ID\n",
        "def fetch_all_youtube_comments(video_id):\n",
        "    comments_data = []\n",
        "    request = youtube.commentThreads().list(\n",
        "        part=\"snippet,replies\",\n",
        "        videoId=video_id,\n",
        "        maxResults=100  # Max number of comments per request\n",
        "    )\n",
        "\n",
        "    while request:\n",
        "        response = request.execute()\n",
        "\n",
        "        # Extract comments and their replies\n",
        "        for item in response['items']:\n",
        "            # Get the top-level comment\n",
        "            top_comment = item['snippet']['topLevelComment']['snippet']['textDisplay']\n",
        "            comments_data.append([top_comment, ''])\n",
        "\n",
        "            # Check for replies\n",
        "            if 'replies' in item:\n",
        "                for reply in item['replies']['comments']:\n",
        "                    reply_comment = reply['snippet']['textDisplay']\n",
        "                    comments_data.append(['', reply_comment])  # Indent reply\n",
        "\n",
        "        # Get the next page token (if there is one)\n",
        "        request = youtube.commentThreads().list_next(request, response)\n",
        "\n",
        "    return comments_data\n",
        "\n",
        "# Export comments and replies to a CSV file\n",
        "def export_to_csv(comments_data, filename):\n",
        "    with open(filename, mode='w', newline='', encoding='utf-8') as file:\n",
        "        writer = csv.writer(file)\n",
        "        writer.writerow(['Top Comment', 'Reply'])  # Add header\n",
        "        for comment in comments_data:\n",
        "            writer.writerow(comment)\n",
        "    print(f\"CSV file created: {filename}\")\n",
        "\n",
        "if __name__ == \"__main__\":\n",
        "    video_id = \"CN_EMMoycjM\"  # Replace with your YouTube video ID\n",
        "    all_comments_data = fetch_all_youtube_comments(video_id)\n",
        "\n",
        "    # Export all comments and replies to a CSV file in Colab\n",
        "    csv_filename = '/content/youtube_comments_with_replies.csv'\n",
        "    export_to_csv(all_comments_data, csv_filename)\n",
        "\n",
        "    # Verify the file exists\n",
        "    if os.path.exists(csv_filename):\n",
        "        print(f\"File exists at: {csv_filename}\")\n",
        "\n",
        "    # Download the CSV file\n",
        "    from google.colab import files\n",
        "    files.download(csv_filename)\n"
      ]
    }
  ]
}