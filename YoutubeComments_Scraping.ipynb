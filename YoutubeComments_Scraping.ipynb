{
  "nbformat": 4,
  "nbformat_minor": 0,
  "metadata": {
    "colab": {
      "provenance": [],
      "include_colab_link": true
    },
    "kernelspec": {
      "name": "python3",
      "display_name": "Python 3"
    },
    "language_info": {
      "name": "python"
    }
  },
  "cells": [
    {
      "cell_type": "markdown",
      "metadata": {
        "id": "view-in-github",
        "colab_type": "text"
      },
      "source": [
        "<a href=\"https://colab.research.google.com/github/oevxlmo/sentimental-analysis/blob/main/YoutubeComments_Scraping.ipynb\" target=\"_parent\"><img src=\"https://colab.research.google.com/assets/colab-badge.svg\" alt=\"Open In Colab\"/></a>"
      ]
    },
    {
      "cell_type": "markdown",
      "source": [
        "## Pull Comments"
      ],
      "metadata": {
        "id": "ExqBG7nOSzQZ"
      }
    },
    {
      "cell_type": "code",
      "execution_count": null,
      "metadata": {
        "colab": {
          "base_uri": "https://localhost:8080/",
          "height": 53
        },
        "id": "LtsUFbQJOv-5",
        "outputId": "80c292ba-3892-4426-f2ed-e77af30138ab"
      },
      "outputs": [
        {
          "output_type": "stream",
          "name": "stdout",
          "text": [
            "CSV file created: /content/youtube_comments.csv\n",
            "File exists at: /content/youtube_comments.csv\n"
          ]
        },
        {
          "output_type": "display_data",
          "data": {
            "text/plain": [
              "<IPython.core.display.Javascript object>"
            ],
            "application/javascript": [
              "\n",
              "    async function download(id, filename, size) {\n",
              "      if (!google.colab.kernel.accessAllowed) {\n",
              "        return;\n",
              "      }\n",
              "      const div = document.createElement('div');\n",
              "      const label = document.createElement('label');\n",
              "      label.textContent = `Downloading \"${filename}\": `;\n",
              "      div.appendChild(label);\n",
              "      const progress = document.createElement('progress');\n",
              "      progress.max = size;\n",
              "      div.appendChild(progress);\n",
              "      document.body.appendChild(div);\n",
              "\n",
              "      const buffers = [];\n",
              "      let downloaded = 0;\n",
              "\n",
              "      const channel = await google.colab.kernel.comms.open(id);\n",
              "      // Send a message to notify the kernel that we're ready.\n",
              "      channel.send({})\n",
              "\n",
              "      for await (const message of channel.messages) {\n",
              "        // Send a message to notify the kernel that we're ready.\n",
              "        channel.send({})\n",
              "        if (message.buffers) {\n",
              "          for (const buffer of message.buffers) {\n",
              "            buffers.push(buffer);\n",
              "            downloaded += buffer.byteLength;\n",
              "            progress.value = downloaded;\n",
              "          }\n",
              "        }\n",
              "      }\n",
              "      const blob = new Blob(buffers, {type: 'application/binary'});\n",
              "      const a = document.createElement('a');\n",
              "      a.href = window.URL.createObjectURL(blob);\n",
              "      a.download = filename;\n",
              "      div.appendChild(a);\n",
              "      a.click();\n",
              "      div.remove();\n",
              "    }\n",
              "  "
            ]
          },
          "metadata": {}
        },
        {
          "output_type": "display_data",
          "data": {
            "text/plain": [
              "<IPython.core.display.Javascript object>"
            ],
            "application/javascript": [
              "download(\"download_b021f7e9-a1a8-4741-bbf2-5ab1964b531e\", \"youtube_comments.csv\", 13030)"
            ]
          },
          "metadata": {}
        }
      ],
      "source": [
        "import googleapiclient.discovery\n",
        "import googleapiclient.errors\n",
        "import csv\n",
        "import os\n",
        "\n",
        "# Set up the API\n",
        "api_service_name = \"youtube\"\n",
        "api_version = \"v3\"\n",
        "DEVELOPER_KEY = \"YOUR_API_KEY\"\n",
        "\n",
        "youtube = googleapiclient.discovery.build(\n",
        "    api_service_name, api_version, developerKey=DEVELOPER_KEY)\n",
        "\n",
        "# Function to fetch comments\n",
        "def fetch_youtube_comments(video_id):\n",
        "    comments = []\n",
        "    request = youtube.commentThreads().list(\n",
        "        part=\"snippet\",\n",
        "        videoId=video_id,\n",
        "        maxResults=100\n",
        "    )\n",
        "    response = request.execute()\n",
        "\n",
        "    # Extract comments\n",
        "    for item in response['items']:\n",
        "        comment = item['snippet']['topLevelComment']['snippet']['textDisplay']\n",
        "        comments.append(comment)\n",
        "\n",
        "    return comments\n",
        "\n",
        "# Export comments to a CSV file\n",
        "def export_to_csv(comments, filename):\n",
        "    with open(filename, mode='w', newline='', encoding='utf-8') as file:\n",
        "        writer = csv.writer(file)\n",
        "        writer.writerow(['Comment'])  # Add header\n",
        "        for comment in comments:\n",
        "            writer.writerow([comment])\n",
        "    print(f\"CSV file created: {filename}\")\n",
        "\n",
        "if __name__ == \"__main__\":\n",
        "    video_id = \"WNrB1Q9Rry0\"  # Replace with your YouTube video ID\n",
        "    comments = fetch_youtube_comments(video_id)\n",
        "\n",
        "    # Export comments to a CSV file in Colab\n",
        "    csv_filename = '/content/youtube_comments.csv'\n",
        "    export_to_csv(comments, csv_filename)\n",
        "\n",
        "    # Verify the file exists\n",
        "    if os.path.exists(csv_filename):\n",
        "        print(f\"File exists at: {csv_filename}\")\n",
        "\n",
        "    # Download the CSV file\n",
        "    from google.colab import files\n",
        "    files.download(csv_filename)\n"
      ]
    }
  ]
}